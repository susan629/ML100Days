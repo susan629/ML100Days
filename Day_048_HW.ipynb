{
 "cells": [
  {
   "cell_type": "markdown",
   "metadata": {},
   "source": [
    "本日作業：\n",
    "\n",
    "透過 Kaggle 的實戰練習，把資料下載下來，自己做訓練集/測試集的切分，送進模型訓練，評估結果，再把測試集的答案上傳到 Kaggle 得到最終成績。\n",
    "\n",
    "\n",
    "\n",
    "請完成 scikit-learn-practice 比賽(點擊連結可至競賽頁面)，讓大家熟悉 Scikit-learn 的比賽\n",
    "\n",
    "\n",
    "\n",
    "總共有一千筆訓練資料、40個 features，二元分類問題，練習 features scaling、建模、調參數等步驟\n",
    "每天最多上傳 10 次結果\n",
    "請在 private / public leaderboard 上取得 0.7 以上的準確率\n",
    "可多參考別人的 Kernel，學習別人的寫法與思路，完成自己的 Kaggle 競賽\n",
    "\n",
    "\n",
    "作業提交請截圖kaggle競賽頁面提交畫面上傳至github，並回到官網提交github連結。"
   ]
  },
  {
   "cell_type": "markdown",
   "metadata": {},
   "source": [
    "https://www.kaggle.com/c/data-science-london-scikit-learn"
   ]
  }
 ],
 "metadata": {
  "kernelspec": {
   "display_name": "Python 3",
   "language": "python",
   "name": "python3"
  },
  "language_info": {
   "codemirror_mode": {
    "name": "ipython",
    "version": 3
   },
   "file_extension": ".py",
   "mimetype": "text/x-python",
   "name": "python",
   "nbconvert_exporter": "python",
   "pygments_lexer": "ipython3",
   "version": "3.7.3"
  }
 },
 "nbformat": 4,
 "nbformat_minor": 2
}
